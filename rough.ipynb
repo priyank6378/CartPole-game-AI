{
 "cells": [
  {
   "cell_type": "code",
   "execution_count": 2,
   "id": "c2b77d21-e346-43a9-adab-243a320f360f",
   "metadata": {
    "tags": []
   },
   "outputs": [],
   "source": [
    "import gymnasium as gym\n",
    "# import gym_snake_game\n",
    "import tensorflow as tf\n",
    "from tensorflow import keras\n",
    "import numpy as np\n",
    "import matplotlib.pyplot as plt\n",
    "import cv2\n",
    "import random\n",
    "import copy"
   ]
  },
  {
   "cell_type": "code",
   "execution_count": 3,
   "id": "dc2df30f-85cf-4b71-a550-72cb702de51d",
   "metadata": {},
   "outputs": [],
   "source": [
    "# env = gym.make('MountainCar-v0', render_mode='rgb_array')\n",
    "# env = gym.make('CarRacing-v2', render_mode='rgb_array')\n",
    "env = gym.make(\"CartPole-v1\", render_mode='rgb_array')"
   ]
  },
  {
   "cell_type": "code",
   "execution_count": 4,
   "id": "977e28d6",
   "metadata": {},
   "outputs": [
    {
     "data": {
      "text/plain": [
       "(4,)"
      ]
     },
     "execution_count": 4,
     "metadata": {},
     "output_type": "execute_result"
    }
   ],
   "source": [
    "# rough\n",
    "env.reset()[0].shape"
   ]
  },
  {
   "cell_type": "code",
   "execution_count": 5,
   "id": "b0d199b2-6d86-4e0c-ace3-b8ec253a0034",
   "metadata": {},
   "outputs": [
    {
     "data": {
      "text/plain": [
       "array([3, 1, 2])"
      ]
     },
     "execution_count": 5,
     "metadata": {},
     "output_type": "execute_result"
    }
   ],
   "source": [
    "a = np.array([1,2,3])\n",
    "random.shuffle(a)\n",
    "a"
   ]
  },
  {
   "cell_type": "code",
   "execution_count": 6,
   "id": "7f8166d8-c489-44bd-bdef-b4029888d228",
   "metadata": {},
   "outputs": [],
   "source": [
    "def make_game_video(env, model=None , MAX_DUR=1000):\n",
    "    img_array = []\n",
    "    size = None\n",
    "    env.reset()\n",
    "    img_array.append(env.render())\n",
    "    for i in range(MAX_DUR):\n",
    "        if model == None:\n",
    "            action = env.action_space.sample()\n",
    "        else :\n",
    "            pass\n",
    "        state = env.step(action)[0]\n",
    "        img = env.render()\n",
    "        img = cv2.cvtColor(img, cv2.COLOR_RGB2GRAY)\n",
    "        img_array.append(img)\n",
    "    \n",
    "    size = img_array[0].shape\n",
    "    size = size[:2]\n",
    "#     print(img_array[0].dtype)\n",
    "    vid = cv2.VideoWriter('game_vid.avi' , cv2.VideoWriter_fourcc(*'DIVX'), fps=15 ,frameSize=size)\n",
    "    for i in img_array:\n",
    "        vid.write(i)\n",
    "    vid.release()"
   ]
  },
  {
   "cell_type": "code",
   "execution_count": null,
   "id": "28a190bc-cffc-44c6-b03c-77bb3d258636",
   "metadata": {},
   "outputs": [],
   "source": [
    "make_game_video(env)"
   ]
  },
  {
   "cell_type": "code",
   "execution_count": null,
   "id": "22c71ee4-5c51-4dd5-b1a1-d0b17509109e",
   "metadata": {},
   "outputs": [],
   "source": [
    "np.expand_dims(env.reset()[0], axis=0)"
   ]
  },
  {
   "cell_type": "code",
   "execution_count": 7,
   "id": "80987aeb-d915-4bd6-9066-473df5cd59f0",
   "metadata": {},
   "outputs": [],
   "source": [
    "def make_model():\n",
    "    inps = keras.layers.Input(shape=(4))\n",
    "#     x = keras.layers.Flatten()(inp)\n",
    "    x = keras.layers.Dense(200, activation='relu')(inps)\n",
    "#     x = keras.layers.Dense(100, activation='relu')(inps)\n",
    "#     x = keras.layers.Dense(200, activation='relu')(x)\n",
    "#     x = keras.layers.Dense(100, activation='relu')(x)\n",
    "    outs = keras.layers.Dense(2, activation='softmax')(x)\n",
    "    model = keras.Model(inputs=inps , outputs=outs)\n",
    "    return model"
   ]
  },
  {
   "cell_type": "code",
   "execution_count": null,
   "id": "b2e9538a-9357-40e7-9633-db77c724aa93",
   "metadata": {},
   "outputs": [],
   "source": [
    "model = make_model()\n",
    "s = env.reset()[0]\n",
    "print(s)\n",
    "# s = process_state(s)\n",
    "model(np.array([s]))"
   ]
  },
  {
   "cell_type": "code",
   "execution_count": null,
   "id": "c8731462",
   "metadata": {},
   "outputs": [],
   "source": [
    "# env.step(np.array(model(np.array([[s,s,s,s]]))))"
   ]
  },
  {
   "cell_type": "code",
   "execution_count": 8,
   "id": "bd9109db",
   "metadata": {},
   "outputs": [],
   "source": [
    "def discount_reward(rewards, gamma=0.99):\n",
    "    disc_r = tf.pow(gamma, np.arange(len(rewards))) * rewards\n",
    "    r = tf.math.reduce_sum(disc_r)\n",
    "    \n",
    "def process_state(state):\n",
    "    return state\n",
    "    return np.expand_dims(state, axis=0)\n",
    "    \n",
    "def e_greedy(action_prob, e = 0.01):\n",
    "    if random.random()<e:\n",
    "        return random.randint(0,len(action_prob)-1)\n",
    "    else :\n",
    "        return np.argmax(action_prob)"
   ]
  },
  {
   "cell_type": "code",
   "execution_count": null,
   "id": "7fd376d1-26d3-4dc2-b0eb-21558ee31b09",
   "metadata": {},
   "outputs": [],
   "source": [
    "# SIMPLE TRAINING:\n",
    "\n",
    "model = make_model()\n",
    "\n",
    "optim = keras.optimizers.Adam(learning_rate=0.001)\n",
    "\n",
    "epochs = 100\n",
    "episode_len = 200\n",
    "\n",
    "gamma = 0.9\n",
    "loss_history = []\n",
    "\n",
    "for epoch in range(epochs):\n",
    "    state = env.reset()[0]\n",
    "    state = process_state(state)\n",
    "#     state = np.array(state)\n",
    "    done = False\n",
    "    t = 0\n",
    "    G = 0\n",
    "    losses = []\n",
    "    while t<episode_len and (not done):\n",
    "        print(state)\n",
    "        action_prob = model(np.array([state]))[0]\n",
    "#         print(action_prob)\n",
    "#         action = e_greedy(action_prob)\n",
    "        action = np.random.choice([0,1], p=np.array(action_prob))\n",
    "#         print(action)\n",
    "        prev_state = state\n",
    "        state , reward, done, _ , info = env.step(action)\n",
    "        state = process_state(state)\n",
    "        G += reward*tf.pow(gamma, t)\n",
    "        t+=1\n",
    "        target = tf.Variable(tf.zeros(len(action_prob[0])))\n",
    "#         print(target)\n",
    "        target[action].assign(1)\n",
    "#         print('target : ', target)\n",
    "        with tf.GradientTape() as tape:\n",
    "            action_prob = model(np.array([prev_state]))[0]\n",
    "            loss = tf.reduce_sum(tf.math.log(tf.pow(target-action_prob,2)) / G)\n",
    "        gradients = tape.gradient(loss, model.trainable_weights)\n",
    "#         print(\"loss: \",loss)\n",
    "#         print(\"gradients : \" ,gradients)\n",
    "        losses.append(loss.numpy())\n",
    "        optim.apply_gradients(zip(gradients, model.trainable_weights))\n",
    "    loss_history.append(np.sum(losses)/len(losses))\n",
    "plt.plot(loss_history)"
   ]
  },
  {
   "cell_type": "code",
   "execution_count": null,
   "id": "50a23b8a",
   "metadata": {},
   "outputs": [],
   "source": [
    "print(done, t, G)\n",
    "plt.plot(loss_history)"
   ]
  },
  {
   "cell_type": "code",
   "execution_count": null,
   "id": "15ac7d93",
   "metadata": {},
   "outputs": [],
   "source": [
    "plt.imshow(env.render())"
   ]
  },
  {
   "cell_type": "code",
   "execution_count": null,
   "id": "ab647f62",
   "metadata": {},
   "outputs": [],
   "source": [
    "state = env.reset()[0]\n",
    "done = False\n",
    "for i in range(500):\n",
    "    action = np.argmax(model(process_state(np.array([state])))[0])\n",
    "    _ = env.step(action)\n",
    "    done = _[2]\n",
    "    if done or _[3]:\n",
    "        break;\n",
    "    state = _[0]\n",
    "print(i)"
   ]
  },
  {
   "cell_type": "code",
   "execution_count": null,
   "id": "88c1015d",
   "metadata": {},
   "outputs": [],
   "source": [
    "plt.imshow(env.render())"
   ]
  },
  {
   "cell_type": "code",
   "execution_count": null,
   "id": "615ab4fe",
   "metadata": {},
   "outputs": [],
   "source": [
    "# from gym.wrappers.monitoring.video_recorder import VideoRecorder\n",
    "# import gym\n",
    "# max_time = 200\n",
    "# record_env = RecordVideo(env , './mp4', video_length=max_time)\n",
    "\n",
    "# state = env.reset()[0]\n",
    "# state = process_state(state)\n",
    "# ans = 0\n",
    "# done = False\n",
    "\n",
    "# while ans < max_time and done==False:\n",
    "#     action = np.argmax(model(np.array([state]))[0])\n",
    "#     state , r , done,_ ,__ = record_env.step(action)\n",
    "#     state = process_state(state)\n",
    "#     ans += 1\n",
    "\n",
    "# record_env.close()\n",
    "# print(done)\n",
    "# print(ans)"
   ]
  },
  {
   "cell_type": "code",
   "execution_count": null,
   "id": "b4e04f4e",
   "metadata": {},
   "outputs": [],
   "source": [
    "env.close()"
   ]
  },
  {
   "cell_type": "code",
   "execution_count": null,
   "id": "69c19198",
   "metadata": {},
   "outputs": [],
   "source": [
    "def discount_rewards(rewards, gamma=0.99):\n",
    "    lenr = len(rewards)\n",
    "    disc_return = np.power(gamma,np.arange(lenr)) * rewards \n",
    "    disc_return /= disc_return.max() \n",
    "    return disc_return"
   ]
  },
  {
   "cell_type": "code",
   "execution_count": 9,
   "id": "bbe56624",
   "metadata": {},
   "outputs": [
    {
     "name": "stderr",
     "output_type": "stream",
     "text": [
      "2023-02-27 13:45:01.451933: I tensorflow/compiler/xla/stream_executor/cuda/cuda_gpu_executor.cc:981] successful NUMA node read from SysFS had negative value (-1), but there must be at least one NUMA node, so returning NUMA node zero\n",
      "2023-02-27 13:45:01.477536: I tensorflow/compiler/xla/stream_executor/cuda/cuda_gpu_executor.cc:981] successful NUMA node read from SysFS had negative value (-1), but there must be at least one NUMA node, so returning NUMA node zero\n",
      "2023-02-27 13:45:01.477899: I tensorflow/compiler/xla/stream_executor/cuda/cuda_gpu_executor.cc:981] successful NUMA node read from SysFS had negative value (-1), but there must be at least one NUMA node, so returning NUMA node zero\n",
      "2023-02-27 13:45:01.478847: I tensorflow/core/platform/cpu_feature_guard.cc:193] This TensorFlow binary is optimized with oneAPI Deep Neural Network Library (oneDNN) to use the following CPU instructions in performance-critical operations:  AVX2 FMA\n",
      "To enable them in other operations, rebuild TensorFlow with the appropriate compiler flags.\n",
      "2023-02-27 13:45:01.479414: I tensorflow/compiler/xla/stream_executor/cuda/cuda_gpu_executor.cc:981] successful NUMA node read from SysFS had negative value (-1), but there must be at least one NUMA node, so returning NUMA node zero\n",
      "2023-02-27 13:45:01.479765: I tensorflow/compiler/xla/stream_executor/cuda/cuda_gpu_executor.cc:981] successful NUMA node read from SysFS had negative value (-1), but there must be at least one NUMA node, so returning NUMA node zero\n",
      "2023-02-27 13:45:01.480068: I tensorflow/compiler/xla/stream_executor/cuda/cuda_gpu_executor.cc:981] successful NUMA node read from SysFS had negative value (-1), but there must be at least one NUMA node, so returning NUMA node zero\n",
      "2023-02-27 13:45:01.917085: I tensorflow/compiler/xla/stream_executor/cuda/cuda_gpu_executor.cc:981] successful NUMA node read from SysFS had negative value (-1), but there must be at least one NUMA node, so returning NUMA node zero\n",
      "2023-02-27 13:45:01.917253: I tensorflow/compiler/xla/stream_executor/cuda/cuda_gpu_executor.cc:981] successful NUMA node read from SysFS had negative value (-1), but there must be at least one NUMA node, so returning NUMA node zero\n",
      "2023-02-27 13:45:01.917375: I tensorflow/compiler/xla/stream_executor/cuda/cuda_gpu_executor.cc:981] successful NUMA node read from SysFS had negative value (-1), but there must be at least one NUMA node, so returning NUMA node zero\n",
      "2023-02-27 13:45:01.917474: I tensorflow/core/common_runtime/gpu/gpu_device.cc:1613] Created device /job:localhost/replica:0/task:0/device:GPU:0 with 1799 MB memory:  -> device: 0, name: NVIDIA GeForce GTX 1650, pci bus id: 0000:01:00.0, compute capability: 7.5\n",
      "2023-02-27 13:45:02.462653: I tensorflow/compiler/xla/service/service.cc:173] XLA service 0x3fc844c0 initialized for platform CUDA (this does not guarantee that XLA will be used). Devices:\n",
      "2023-02-27 13:45:02.462674: I tensorflow/compiler/xla/service/service.cc:181]   StreamExecutor device (0): NVIDIA GeForce GTX 1650, Compute Capability 7.5\n",
      "2023-02-27 13:45:02.472617: I tensorflow/compiler/mlir/tensorflow/utils/dump_mlir_util.cc:268] disabling MLIR crash reproducer, set env var `MLIR_CRASH_REPRODUCER_DIRECTORY` to enable.\n",
      "2023-02-27 13:45:02.549733: I tensorflow/compiler/jit/xla_compilation_cache.cc:477] Compiled cluster using XLA!  This line is logged at most once for the lifetime of the process.\n"
     ]
    },
    {
     "data": {
      "text/plain": [
       "[<matplotlib.lines.Line2D at 0x7fd8d82247c0>]"
      ]
     },
     "execution_count": 9,
     "metadata": {},
     "output_type": "execute_result"
    },
    {
     "data": {
      "image/png": "[encoded data removed]",
      "text/plain": [
       "<Figure size 640x480 with 1 Axes>"
      ]
     },
     "metadata": {},
     "output_type": "display_data"
    }
   ],
   "source": [
    "# TRAINING WITH EXPERIENCE REPLAY:\n",
    "\n",
    "model = make_model()\n",
    "\n",
    "env = gym.make(\"CartPole-v1\", render_mode='rgb_array')\n",
    "\n",
    "optimizer = keras.optimizers.RMSprop(learning_rate=0.001)\n",
    "\n",
    "\n",
    "epochs = 1\n",
    "episode_len = 200\n",
    "\n",
    "gamma = 0.99\n",
    "loss_history = []\n",
    "e = 0.01\n",
    "\n",
    "for epoch in range(epochs):\n",
    "    state1 = env.reset()[0]\n",
    "    done = False\n",
    "    t = 0\n",
    "    replay = []\n",
    "    if epoch%60 == 0:\n",
    "        e/=10\n",
    "        \n",
    "    for t in range(episode_len):\n",
    "        t+=1\n",
    "        action_prob = model(np.array([state1]))[0]\n",
    "#         print(action_prob)\n",
    "        action = np.random.choice([0,1], p=np.array(action_prob))\n",
    "#         action = e_greedy(action_prob, e)\n",
    "        state2 , r, done , truncated , info = env.step(action)\n",
    "        experience = [state1, action , t+1]\n",
    "        replay.append(experience)\n",
    "        state1 = state2\n",
    "        if done :\n",
    "            break\n",
    "    \n",
    "    action_batch = [a for (s,a,r) in replay]\n",
    "    state_batch = [s for (s,a,r) in replay]\n",
    "    reward_batch = [r for (s,a,r) in replay]\n",
    "    \n",
    "    reward_batch = np.array(reward_batch[::-1])\n",
    "    g = np.power(gamma, np.arange(t))*reward_batch\n",
    "    g = g/np.max(g)\n",
    "    \n",
    "    with tf.GradientTape() as tape:\n",
    "        pred_batch = model(np.array(state_batch),  training=True)\n",
    "        prob_batch = tf.gather_nd(pred_batch , indices=[[i,j] for i,j in enumerate(action_batch)])\n",
    "        loss = -tf.reduce_sum(g * tf.math.log(prob_batch))\n",
    "    gradients = tape.gradient(loss, model.trainable_weights)\n",
    "    optimizer.apply_gradients(zip(gradients, model.trainable_weights))\n",
    "    loss_history.append(t)\n",
    "    \n",
    "plt.plot(loss_history)"
   ]
  },
  {
   "cell_type": "code",
   "execution_count": null,
   "id": "2f042b53",
   "metadata": {},
   "outputs": [],
   "source": [
    "def discount_rewards(rewards, gamma=0.99):\n",
    "    lenr = len(rewards)\n",
    "    disc_return = np.power(gamma,np.arange(lenr)) * rewards \n",
    "    disc_return /= disc_return.max() \n",
    "    return disc_return\n",
    "\n",
    "inputs = keras.layers.Input(4)\n",
    "x = keras.layers.Dense(200, activation = 'relu')(inputs)\n",
    "# x = keras.layers.Dense(200 , activation = 'relu')(x)\n",
    "outputs = keras.layers.Dense(2, activation = 'softmax')(x)\n",
    "\n",
    "model = make_model()\n",
    "\n",
    "optimizer = keras.optimizers.RMSprop(learning_rate=0.001)\n",
    "\n",
    "env = gym.make(\"CartPole-v1\")\n",
    "\n",
    "EPOCHS = 300\n",
    "\n",
    "history = []\n",
    "for play in range(EPOCHS):\n",
    "    MAX_DUR = 200\n",
    "    state1 = env.reset()[0]\n",
    "    transitions = []\n",
    "\n",
    "    for t in range(MAX_DUR):\n",
    "        action_prob = model(np.array([state1]))\n",
    "        action_prob = np.squeeze(action_prob)\n",
    "        action = np.random.choice([0,1], p=action_prob)\n",
    "        _ = env.step(action)\n",
    "        state2 = _[0]\n",
    "        #reward = _[1]\n",
    "        done = _[2]\n",
    "        transitions.append([state1, action, state2, t+1])\n",
    "        if done :\n",
    "            break\n",
    "\n",
    "        state1 = state2\n",
    "    ep_len = len(transitions)\n",
    "    reward_batch = [r for (s1,a,s2,r) in transitions]\n",
    "    reward_batch = np.array(reward_batch[::-1])\n",
    "    state_batch = [s1 for (s1,a,s2,r) in transitions]\n",
    "    state_batch = np.array(state_batch)\n",
    "    action_batch = [a for (s1,a,s2,r) in transitions]\n",
    "    action_batch = np.array(action_batch)\n",
    "    \n",
    "    gamma = 0.99\n",
    "    \n",
    "    reward = discount_rewards(reward_batch)\n",
    "    \n",
    "    with tf.GradientTape() as tape:\n",
    "        pred_batch = model(state_batch,  training=True)\n",
    "        prob_batch = tf.gather_nd(pred_batch , indices=[[i,j] for i,j in enumerate(action_batch)])\n",
    "        loss = -tf.reduce_sum(reward * tf.math.log(prob_batch))\n",
    "    gradients = tape.gradient(loss, model.trainable_weights)\n",
    "    optimizer.apply_gradients(zip(gradients, model.trainable_weights))\n",
    "    history.append(ep_len)\n",
    "\n",
    "#     def loss_fn(preds, r): \n",
    "#         return -1 * np.sum(r * np.log(preds)) \n",
    "    \n",
    "#     def discount_rewards(rewards, gamma=0.99):\n",
    "#         lenr = len(rewards)\n",
    "#         disc_return = np.power(gamma,np.arange(lenr)) * rewards \n",
    "#         disc_return /= disc_return.max() \n",
    "#         return disc_return\n",
    "\n",
    "\n",
    "# history = train_loop(model)\n",
    "plt.plot(history)"
   ]
  },
  {
   "cell_type": "code",
   "execution_count": null,
   "id": "7a097f06",
   "metadata": {},
   "outputs": [],
   "source": [
    "o = 0\n",
    "z = 0\n",
    "n = 1000\n",
    "for i in range(n):\n",
    "    if np.random.choice([0,1], p=[0.6,0.4]) == 0:\n",
    "        z+=1\n",
    "    else :\n",
    "        o += 1\n",
    "print(z/n,  o/n)"
   ]
  },
  {
   "cell_type": "code",
   "execution_count": null,
   "id": "eb635c9e",
   "metadata": {},
   "outputs": [],
   "source": []
  },
  {
   "cell_type": "code",
   "execution_count": null,
   "id": "7f92aca6",
   "metadata": {},
   "outputs": [],
   "source": []
  }
 ],
 "metadata": {
  "kernelspec": {
   "display_name": "Python 3 (ipykernel)",
   "language": "python",
   "name": "python3"
  },
  "language_info": {
   "codemirror_mode": {
    "name": "ipython",
    "version": 3
   },
   "file_extension": ".py",
   "mimetype": "text/x-python",
   "name": "python",
   "nbconvert_exporter": "python",
   "pygments_lexer": "ipython3",
   "version": "3.9.16"
  },
  "vscode": {
   "interpreter": {
    "hash": "efb82b4cf87d3f9b9b01c2d114c1240deefb13e4b0dfd9ebf4d4f9d0c7b998a2"
   }
  }
 },
 "nbformat": 4,
 "nbformat_minor": 5
}
